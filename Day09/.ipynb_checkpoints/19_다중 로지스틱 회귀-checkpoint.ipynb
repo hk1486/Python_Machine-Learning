{
 "cells": [
  {
   "cell_type": "code",
   "execution_count": 2,
   "metadata": {},
   "outputs": [],
   "source": [
    "import numpy as np\n",
    "import pandas as pd\n",
    "import matplotlib.pyplot as plt\n",
    "import matplotlib as mpl\n",
    "import seaborn as sb\n",
    "%matplotlib inline\n",
    "import tensorflow.compat.v1 as tf\n",
    "tf.disable_v2_behavior()"
   ]
  },
  {
   "cell_type": "code",
   "execution_count": 6,
   "metadata": {},
   "outputs": [
    {
     "name": "stdout",
     "output_type": "stream",
     "text": [
      "[[2, 3], [4, 3], [6, 4], [8, 6], [10, 7], [12, 8], [14, 9]]\n",
      "<class 'list'>\n",
      "<class 'numpy.ndarray'>\n"
     ]
    }
   ],
   "source": [
    "# xData => [공부시간, 과외시간]\n",
    "temp = [[2,3], [4,3], [6,4], [8,6], [10,7], [12,8], [14,9]]\n",
    "print(temp)\n",
    "print(type(temp))\n",
    "xData = np.array(temp)\n",
    "print(type(xData))"
   ]
  },
  {
   "cell_type": "code",
   "execution_count": 8,
   "metadata": {},
   "outputs": [
    {
     "name": "stdout",
     "output_type": "stream",
     "text": [
      "[0 0 0 1 1 1 1]\n",
      "[[0]\n",
      " [0]\n",
      " [0]\n",
      " [1]\n",
      " [1]\n",
      " [1]\n",
      " [1]]\n"
     ]
    }
   ],
   "source": [
    "temp = [0, 0, 0, 1, 1, 1, 1]\n",
    "yData = np.array(temp)\n",
    "print(yData)\n",
    "# reshape() : 넘파이에서 데이터는 그대로 유지하고 배열의 형태(차원)만 변경합니다.\n",
    "yData = np.array(temp).reshape(7,1)\n",
    "print(yData)"
   ]
  },
  {
   "cell_type": "code",
   "execution_count": 9,
   "metadata": {},
   "outputs": [],
   "source": [
    "X = tf.placeholder(dtype=tf.float32, shape = [None,2])\n",
    "Y = tf.placeholder(dtype=tf.float32, shape = [None,1])"
   ]
  },
  {
   "cell_type": "code",
   "execution_count": 11,
   "metadata": {},
   "outputs": [
    {
     "name": "stdout",
     "output_type": "stream",
     "text": [
      "[[0.5533359]\n",
      " [0.4548068]]\n",
      "[0.73103094]\n"
     ]
    }
   ],
   "source": [
    "a = tf.Variable(tf.random_uniform([2,1]), dtype=tf.float32)\n",
    "b = tf.Variable(tf.random_uniform([1]), dtype=tf.float32)\n",
    "sess = tf.Session()\n",
    "sess.run(tf.global_variables_initializer())\n",
    "print('{}'.format(sess.run(a)))\n",
    "print('{}'.format(sess.run(b)))"
   ]
  },
  {
   "cell_type": "code",
   "execution_count": 12,
   "metadata": {},
   "outputs": [],
   "source": [
    "# matmul() : tensorflow에서 행렬의 곱셈을 계산하는 매소드\n",
    "# sigmoid() : tensorflow에서 시그모이드 방정식을 계산하는 매소드\n",
    "y = tf.sigmoid(tf.matmul(X, a) + b)\n",
    "loss = -tf.reduce_mean(Y * tf.log(y) + (1-Y) * tf.log(1-y))\n",
    "gradient_descent = tf.train.GradientDescentOptimizer(0.1).minimize(loss)"
   ]
  },
  {
   "cell_type": "code",
   "execution_count": 14,
   "metadata": {},
   "outputs": [],
   "source": [
    "# sigmoid() 매소드의 실행 결과(y)가 0.5이상이면 1을, 0.5미만이면 0을 리턴시킵니다.\n",
    "sess = tf.Session()\n",
    "# 예상값, sigmoid() 매소드를 실행한 결과(y)를 0 또는 1로 변환 \n",
    "# cast() 매소드의 캐스팅할 데이터가 boolean타입이면 True는 1로, False는 0으로 캐스팅됩니다.\n",
    "predicted = tf.cast(y >= 0.5, dtype=tf.float32)\n",
    "accuracy = tf.reduce_mean(tf.cast(tf.equal(predicted, Y), dtype=tf.int32))"
   ]
  },
  {
   "cell_type": "code",
   "execution_count": 21,
   "metadata": {},
   "outputs": [
    {
     "name": "stdout",
     "output_type": "stream",
     "text": [
      "no :      0, a1 :  -0.10444, a2 :   0.44102, b =   0.21860, loss : 1.05091\n",
      "no :    300, a1 :   0.73526, a2 :  -0.40566, b =  -2.62624, loss : 0.25488\n",
      "no :    600, a1 :   0.75631, a2 :  -0.17062, b =  -4.05351, loss : 0.18391\n",
      "no :    900, a1 :   0.68135, a2 :   0.13073, b =  -5.08852, loss : 0.14473\n",
      "no :   1200, a1 :   0.58892, a2 :   0.41777, b =  -5.91009, loss : 0.11910\n",
      "no :   1500, a1 :   0.49847, a2 :   0.67640, b =  -6.59347, loss : 0.10098\n",
      "no :   1800, a1 :   0.41543, a2 :   0.90627, b =  -7.17918, loss : 0.08752\n",
      "no :   2100, a1 :   0.34088, a2 :   1.11044, b =  -7.69200, loss : 0.07716\n",
      "no :   2400, a1 :   0.27440, a2 :   1.29251, b =  -8.14822, loss : 0.06896\n",
      "no :   2700, a1 :   0.21513, a2 :   1.45583, b =  -8.55922, loss : 0.06231\n",
      "no :   3000, a1 :   0.16211, a2 :   1.60326, b =  -8.93321, loss : 0.05682\n",
      "====================================================================================================\n",
      "[[6 5]]\n",
      "공부시간 : 6, 과외시간 : 5\n",
      "합격여부(sigmoid() 매소드 실행 결과르 0.5이상은 1, 미만은 0으로 변환합니다.) : 1, 합격확률 : 0.513938\n",
      "공부시간 : 0, 과외시간 :  0, 합격여부 : 불합격, 합격확률 :   0.0132%\n",
      "공부시간 : 0, 과외시간 :  1, 합격여부 : 불합격, 합격확률 :   0.0655%\n",
      "공부시간 : 0, 과외시간 :  2, 합격여부 : 불합격, 합격확률 :   0.3247%\n",
      "공부시간 : 0, 과외시간 :  3, 합격여부 : 불합격, 합격확률 :   1.5931%\n",
      "공부시간 : 0, 과외시간 :  4, 합격여부 : 불합격, 합격확률 :   7.4457%\n",
      "공부시간 : 0, 과외시간 :  5, 합격여부 : 불합격, 합격확률 :  28.5590%\n",
      "공부시간 : 0, 과외시간 :  6, 합격여부 : 합격, 합격확률 :  66.5157%\n",
      "공부시간 : 0, 과외시간 :  7, 합격여부 : 합격, 합격확률 :  90.8014%\n",
      "공부시간 : 0, 과외시간 :  8, 합격여부 : 합격, 합격확률 :  98.0021%\n",
      "공부시간 : 0, 과외시간 :  9, 합격여부 : 합격, 합격확률 :  99.5914%\n",
      "공부시간 : 0, 과외시간 : 10, 합격여부 : 합격, 합격확률 :  99.9175%\n"
     ]
    }
   ],
   "source": [
    "sess = tf.Session()\n",
    "sess.run(tf.global_variables_initializer())\n",
    "\n",
    "for i in range(3001):\n",
    "    a_, b_, loss_, gradient_descent_ = sess.run([a, b, loss, gradient_descent], feed_dict = {X: xData, Y: yData})\n",
    "    if i % 300 == 0:\n",
    "        print('no : %6d, a1 : %9.5f, a2 : %9.5f, b = %9.5f, loss : %.5f' % (i, a_[0], a_[1], b_, loss_))\n",
    "print('='*100)\n",
    "\n",
    "# 테스트 데이터를 만듭니다.\n",
    "new_x = np.array([6,5]).reshape(1,2)\n",
    "print(new_x)\n",
    "\n",
    "# sigmoid() 매소드 연산 결과에 테스트 데이터를 대입하여 연산합니다.\n",
    "result, new_y = sess.run([predicted, y], feed_dict = {X : new_x})\n",
    "print('공부시간 : %d, 과외시간 : %d' % (new_x[:,0], new_x[:,1]))\n",
    "print('합격여부(sigmoid() 매소드 실행 결과르 0.5이상은 1, 미만은 0으로 변환합니다.) : %d, 합격확률 : %f' % (result, new_y))\n",
    "\n",
    "for i in range(11):\n",
    "    new_x = np.array([0, i]).reshape(1, 2)\n",
    "    result, new_y = sess.run([predicted, y], feed_dict = {X: new_x})\n",
    "    print('공부시간 : %d, 과외시간 : %2d' % (new_x[:,0], new_x[:,1]), end=', ')\n",
    "    print('합격여부 : %s, 합격확률 : %8.4f%%' % ('합격' if result== 1 else '불합격', new_y * 100))"
   ]
  },
  {
   "cell_type": "code",
   "execution_count": null,
   "metadata": {},
   "outputs": [],
   "source": []
  }
 ],
 "metadata": {
  "kernelspec": {
   "display_name": "Python 3",
   "language": "python",
   "name": "python3"
  },
  "language_info": {
   "codemirror_mode": {
    "name": "ipython",
    "version": 3
   },
   "file_extension": ".py",
   "mimetype": "text/x-python",
   "name": "python",
   "nbconvert_exporter": "python",
   "pygments_lexer": "ipython3",
   "version": "3.8.5"
  }
 },
 "nbformat": 4,
 "nbformat_minor": 4
}
