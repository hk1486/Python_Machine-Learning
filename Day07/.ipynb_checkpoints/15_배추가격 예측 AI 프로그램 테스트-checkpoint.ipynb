{
 "cells": [
  {
   "cell_type": "code",
   "execution_count": 2,
   "metadata": {},
   "outputs": [],
   "source": [
    "import warnings\n",
    "warnings.filterwarnings('ignore')\n",
    "import numpy as np\n",
    "import pandas as pd\n",
    "import matplotlib.pyplot as plt\n",
    "import matplotlib as mpl\n",
    "import seaborn as sb\n",
    "%matplotlib inline\n",
    "import tensorflow.compat.v1 as tf\n",
    "tf.disable_v2_behavior()"
   ]
  },
  {
   "cell_type": "code",
   "execution_count": 3,
   "metadata": {},
   "outputs": [],
   "source": [
    "# 학습 결과가 저장된 모델을 불러와서 실행합니다.\n",
    "X = tf.placeholder(dtype=tf.float32, shape=[None, 4])\n",
    "Y = tf.placeholder(dtype=tf.float32, shape=[None, 1])\n",
    "a = tf.Variable(tf.random_uniform([4, 1]), dtype = tf.float32)\n",
    "b = tf.Variable(tf.random_uniform([1]), dtype = tf.float32)\n",
    "y = tf.matmul(X, a) + b"
   ]
  },
  {
   "cell_type": "code",
   "execution_count": 4,
   "metadata": {},
   "outputs": [
    {
     "name": "stdout",
     "output_type": "stream",
     "text": [
      "평균 온도 : 10\n",
      "최저 온도 : 5\n",
      "최고 온도 : 15\n",
      "강수량 : 0\n"
     ]
    }
   ],
   "source": [
    "# 배추 가격을 결정하는 4가지 변화 요인을 입력받습니다.\n",
    "avgTemp = float(input('평균 온도 : '))\n",
    "minTemp = float(input('최저 온도 : '))\n",
    "maxTemp = float(input('최고 온도 : '))\n",
    "rainFall = float(input('강수량 : '))"
   ]
  },
  {
   "cell_type": "code",
   "execution_count": 5,
   "metadata": {},
   "outputs": [
    {
     "name": "stdout",
     "output_type": "stream",
     "text": [
      "INFO:tensorflow:Restoring parameters from saved.ckpt\n",
      "평균 온도 : 10.0, 최저 온도 : 5.0, 최고 온도 : 15.0, 강수량 : 0.0 -> 배추 가격은 2,904.0원 입니다.\n"
     ]
    }
   ],
   "source": [
    "# 저장된 학습 모델을 불러와 적용합니다.\n",
    "# tf.train.Saver() : 학습된 모델을 디스크로 저장 또는 불러오는 객체를 생성하는 함수입니다.\n",
    "saver = tf.train.Saver()\n",
    "with tf.Session() as sess:\n",
    "    sess.run(tf.global_variables_initializer())\n",
    "    saver.restore(sess, 'saved.ckpt')\n",
    "    # 키보드로 입력받은 데이터를 불러온 학습 모델에 사용하기 위해 numpy 배열을 만듭니다.\n",
    "    data = [[avgTemp, minTemp, maxTemp, rainFall], ]\n",
    "    new_data = np.array(data, dtype=np.float32)\n",
    "    # 불러온 학습 모델을 키보드로 입력한 데이터를 적용시켜 입력된 데이터에 따른\n",
    "    # 배추 가격을 예측합니다.\n",
    "    result = sess.run(y, feed_dict = {X: new_data})\n",
    "    print('평균 온도 : {0}, 최저 온도 : {1}, 최고 온도 : {2}, 강수량 : {3} -> 배추 가격은 {4:,.1f}원 입니다.'\n",
    "         .format(avgTemp, minTemp, maxTemp, rainFall, int(result[0])))"
   ]
  },
  {
   "cell_type": "code",
   "execution_count": null,
   "metadata": {},
   "outputs": [],
   "source": []
  }
 ],
 "metadata": {
  "kernelspec": {
   "display_name": "Python 3",
   "language": "python",
   "name": "python3"
  },
  "language_info": {
   "codemirror_mode": {
    "name": "ipython",
    "version": 3
   },
   "file_extension": ".py",
   "mimetype": "text/x-python",
   "name": "python",
   "nbconvert_exporter": "python",
   "pygments_lexer": "ipython3",
   "version": "3.8.5"
  }
 },
 "nbformat": 4,
 "nbformat_minor": 4
}
