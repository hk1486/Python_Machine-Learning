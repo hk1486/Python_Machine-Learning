{
 "cells": [
  {
   "cell_type": "markdown",
   "metadata": {},
   "source": [
    "#### 날씨와 배추가격은 어떤 상관관계가 있는지 예측하는 AI를 만들어봅니다.\n",
    "##### 평균기온(ageTemp), 최저기온(minTemp), 최고기온(maxTemp), 강수량(rainFall)이 평균 배추가격(agePrice)에 영향을 미칠 경우 가격을 예측합니다."
   ]
  },
  {
   "cell_type": "code",
   "execution_count": 3,
   "metadata": {},
   "outputs": [],
   "source": [
    "import warnings\n",
    "warnings.filterwarnings('ignore')\n",
    "import numpy as np\n",
    "import pandas as pd\n",
    "import matplotlib.pyplot as plt\n",
    "import matplotlib as mpl\n",
    "import seaborn as sb\n",
    "%matplotlib inline\n",
    "import tensorflow.compat.v1 as tf\n",
    "tf.disable_v2_behavior()"
   ]
  },
  {
   "cell_type": "code",
   "execution_count": 4,
   "metadata": {},
   "outputs": [
    {
     "name": "stdout",
     "output_type": "stream",
     "text": [
      "<class 'pandas.core.frame.DataFrame'>\n",
      "          year  avgTemp  minTemp  maxTemp  rainFall  avgPrice\n",
      "0     20100101     -4.9    -11.0      0.9       0.0      2123\n",
      "1     20100102     -3.1     -5.5      5.5       0.8      2123\n",
      "2     20100103     -2.9     -6.9      1.4       0.0      2123\n",
      "3     20100104     -1.8     -5.1      2.2       5.9      2020\n",
      "4     20100105     -5.2     -8.7     -1.8       0.7      2060\n",
      "...        ...      ...      ...      ...       ...       ...\n",
      "2917  20171227     -3.9     -8.0      0.7       0.0      2865\n",
      "2918  20171228     -1.5     -6.9      3.7       0.0      2884\n",
      "2919  20171229      2.9     -2.1      8.0       0.0      2901\n",
      "2920  20171230      2.9     -1.6      7.1       0.6      2901\n",
      "2921  20171231      2.1     -2.0      5.8       0.4      2901\n",
      "\n",
      "[2922 rows x 6 columns]\n"
     ]
    }
   ],
   "source": [
    "# price_data.csv 파일의 데이터를 판다스로 읽어 데이터프레임으로 저장합니다.\n",
    "price_data = pd.read_csv('price_data.csv')\n",
    "print(type(price_data))\n",
    "print(price_data)"
   ]
  },
  {
   "cell_type": "code",
   "execution_count": 5,
   "metadata": {},
   "outputs": [
    {
     "name": "stdout",
     "output_type": "stream",
     "text": [
      "<class 'numpy.ndarray'>\n"
     ]
    },
    {
     "data": {
      "text/plain": [
       "array([[ 2.0100100e+07, -4.9000001e+00, -1.1000000e+01,  8.9999998e-01,\n",
       "         0.0000000e+00,  2.1230000e+03],\n",
       "       [ 2.0100102e+07, -3.0999999e+00, -5.5000000e+00,  5.5000000e+00,\n",
       "         8.0000001e-01,  2.1230000e+03],\n",
       "       [ 2.0100104e+07, -2.9000001e+00, -6.9000001e+00,  1.4000000e+00,\n",
       "         0.0000000e+00,  2.1230000e+03],\n",
       "       ...,\n",
       "       [ 2.0171228e+07,  2.9000001e+00, -2.0999999e+00,  8.0000000e+00,\n",
       "         0.0000000e+00,  2.9010000e+03],\n",
       "       [ 2.0171230e+07,  2.9000001e+00, -1.6000000e+00,  7.0999999e+00,\n",
       "         6.0000002e-01,  2.9010000e+03],\n",
       "       [ 2.0171232e+07,  2.0999999e+00, -2.0000000e+00,  5.8000002e+00,\n",
       "         4.0000001e-01,  2.9010000e+03]], dtype=float32)"
      ]
     },
     "execution_count": 5,
     "metadata": {},
     "output_type": "execute_result"
    }
   ],
   "source": [
    "# 읽어온 데이터를 넘파이 배열 형태로 변환합니다.\n",
    "data = np.array(price_data, dtype=np.float32)\n",
    "print(type(data))\n",
    "data"
   ]
  },
  {
   "cell_type": "code",
   "execution_count": 6,
   "metadata": {},
   "outputs": [
    {
     "data": {
      "text/plain": [
       "array([[ -4.9, -11. ,   0.9,   0. ],\n",
       "       [ -3.1,  -5.5,   5.5,   0.8],\n",
       "       [ -2.9,  -6.9,   1.4,   0. ],\n",
       "       ...,\n",
       "       [  2.9,  -2.1,   8. ,   0. ],\n",
       "       [  2.9,  -1.6,   7.1,   0.6],\n",
       "       [  2.1,  -2. ,   5.8,   0.4]], dtype=float32)"
      ]
     },
     "execution_count": 6,
     "metadata": {},
     "output_type": "execute_result"
    }
   ],
   "source": [
    "# 넘파이 배열에서 변화 요인 데이터(평균기온, 최저기온, 최고기온, 강수량)으로 사용할 데이터를 뽑아냅니다.\n",
    "xData = data[:, 1:5]\n",
    "xData"
   ]
  },
  {
   "cell_type": "code",
   "execution_count": 7,
   "metadata": {},
   "outputs": [
    {
     "data": {
      "text/plain": [
       "array([[2123.],\n",
       "       [2123.],\n",
       "       [2123.],\n",
       "       ...,\n",
       "       [2901.],\n",
       "       [2901.],\n",
       "       [2901.]], dtype=float32)"
      ]
     },
     "execution_count": 7,
     "metadata": {},
     "output_type": "execute_result"
    }
   ],
   "source": [
    "# 넘파이 배열에서 결과(평균가격)로 사용할 데이터를 뽑아냅니다.\n",
    "# 변화 요인이 2차원이므로 결과도 2차원 테이터로 뽑습니다.\n",
    "yData = data[:, [5]]\n",
    "yData"
   ]
  },
  {
   "cell_type": "code",
   "execution_count": 8,
   "metadata": {},
   "outputs": [
    {
     "name": "stdout",
     "output_type": "stream",
     "text": [
      "<tf.Variable 'Variable:0' shape=(4, 1) dtype=float32_ref>\n",
      "<tf.Variable 'Variable_1:0' shape=(1,) dtype=float32_ref>\n"
     ]
    }
   ],
   "source": [
    "# 뽑아낸 데이터를 tensorflow로 처리하기위해 placeholder를 만듭니다.\n",
    "X = tf.placeholder(dtype=tf.float32, shape=[None, 4]) # 변화요인(평균기온, 최저기온, 최고기온, 강수량)\n",
    "Y = tf.placeholder(dtype=tf.float32, shape=[None, 1]) # 가격(실제값)\n",
    "\n",
    "# 다변인 선형 회귀 모델의 기울기와 y절편의 임의의 값으로 초기화합니다.\n",
    "a = tf.Variable(tf.random_uniform([4, 1]), dtype=tf.float32) # 4행 1열을 난수로 발생시킴\n",
    "b = tf.Variable(tf.random_uniform([1]), dtype=tf.float32)\n",
    "print(a)\n",
    "print(b)"
   ]
  },
  {
   "cell_type": "code",
   "execution_count": 9,
   "metadata": {},
   "outputs": [],
   "source": [
    "# 행렬의 곱셈 연산을 이용해 다변인 선형 회귀 모델의 가설식을 세웁니다 -> 예측값\n",
    "y = tf.matmul(X, a) + b\n",
    "\n",
    "# 오차 함수를 만듭니다.\n",
    "loss = tf.reduce_mean(tf.square(y - Y))\n",
    "\n",
    "# 경사하강법 알고리즘을 사용해서 오차 함수의 결과를 최소로 하는 식을 만듭니다.\n",
    "gradient_descent = tf.train.GradientDescentOptimizer(0.00005).minimize(loss)"
   ]
  },
  {
   "cell_type": "code",
   "execution_count": 10,
   "metadata": {},
   "outputs": [
    {
     "name": "stdout",
     "output_type": "stream",
     "text": [
      "count :      0, loss = 12470872.000, price =   -1.8\n",
      "count :   5000, loss =  2254352.500, price = 2581.5\n",
      "count :  10000, loss =  2228212.250, price = 2584.4\n",
      "count :  15000, loss =  2203878.750, price = 2587.4\n",
      "count :  20000, loss =  2181210.000, price = 2590.6\n",
      "count :  25000, loss =  2160075.000, price = 2593.9\n",
      "count :  30000, loss =  2140354.500, price = 2597.2\n",
      "count :  35000, loss =  2121942.500, price = 2600.7\n",
      "count :  40000, loss =  2104735.750, price = 2604.2\n",
      "count :  45000, loss =  2088646.500, price = 2607.9\n",
      "count :  50000, loss =  2073592.000, price = 2611.5\n",
      "count :  55000, loss =  2059494.625, price = 2615.3\n",
      "count :  60000, loss =  2046284.875, price = 2619.0\n",
      "count :  65000, loss =  2033899.625, price = 2622.8\n",
      "count :  70000, loss =  2022280.875, price = 2626.6\n",
      "count :  75000, loss =  2011373.625, price = 2630.5\n",
      "count :  80000, loss =  2001127.250, price = 2634.4\n",
      "count :  85000, loss =  1991501.625, price = 2638.2\n",
      "count :  90000, loss =  1982446.250, price = 2642.1\n",
      "count :  95000, loss =  1973926.125, price = 2646.0\n",
      "count : 100000, loss =  1965909.625, price = 2649.8\n",
      "학습된 모델을 저장했습니다.\n"
     ]
    }
   ],
   "source": [
    "# 학습을 시킵니다.\n",
    "sess = tf.Session()\n",
    "sess.run(tf.global_variables_initializer())\n",
    "\n",
    "for i in range(100001):\n",
    "    loss_, y_, _ = sess.run([loss, y, gradient_descent], feed_dict={X: xData, Y: yData})\n",
    "    if i % 5000 == 0:\n",
    "        print('count : %6d, loss = %12.3f, price = %6.1f' % (i, loss_, y_[0]))\n",
    "        \n",
    "# 학습이 완료되면 학습된 학습 모델을 디스크에 저장합니다.\n",
    "# Saver() : tensorflow에서 학습된 모델을 디스크에 저장 또는 불러올 때 사용하는 객체를 생성합니다.\n",
    "saver = tf.train.Saver()\n",
    "save_path = saver.save(sess, \"saved.ckpt\")\n",
    "print('학습된 모델을 저장했습니다.')"
   ]
  },
  {
   "cell_type": "code",
   "execution_count": null,
   "metadata": {},
   "outputs": [],
   "source": []
  },
  {
   "cell_type": "code",
   "execution_count": null,
   "metadata": {},
   "outputs": [],
   "source": []
  }
 ],
 "metadata": {
  "kernelspec": {
   "display_name": "Python 3",
   "language": "python",
   "name": "python3"
  },
  "language_info": {
   "codemirror_mode": {
    "name": "ipython",
    "version": 3
   },
   "file_extension": ".py",
   "mimetype": "text/x-python",
   "name": "python",
   "nbconvert_exporter": "python",
   "pygments_lexer": "ipython3",
   "version": "3.8.5"
  }
 },
 "nbformat": 4,
 "nbformat_minor": 4
}
