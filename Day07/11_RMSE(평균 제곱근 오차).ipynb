{
 "cells": [
  {
   "cell_type": "markdown",
   "metadata": {},
   "source": [
    "### RMSE(Root Mean Square Error)\n",
    "임의의 선을 그리고 난 후, 이 선이 얼마나 잘 그려졌는지 평가하여 수정합니다. 이를 위해서 주어진 선의 오차를 평가하는 알고리즘이 필요합니다. 그 중 가장 많이 사용하는 방법이 평균 제곱근 오차를 이용하는 것입니다."
   ]
  },
  {
   "cell_type": "code",
   "execution_count": 2,
   "metadata": {},
   "outputs": [],
   "source": [
    "import numpy as np"
   ]
  },
  {
   "cell_type": "code",
   "execution_count": 13,
   "metadata": {},
   "outputs": [
    {
     "name": "stdout",
     "output_type": "stream",
     "text": [
      "[2, 4, 6, 8]\n",
      "[81, 93, 91, 97]\n",
      "공부한 시간 : 2, 실제 성적 : 81\n",
      "공부한 시간 : 4, 실제 성적 : 93\n",
      "공부한 시간 : 6, 실제 성적 : 91\n",
      "공부한 시간 : 8, 실제 성적 : 97\n"
     ]
    }
   ],
   "source": [
    "# 기울기 a와 y절편 b를 임의로 정합니다.\n",
    "# 학습에 의한 기울기, y절편\n",
    "# count : 4000, RMSE :  2.8810, 기울기 :  2.3001, y절편 : 78.9994\n",
    "\n",
    "# ab = [3, 76]\n",
    "ab = [2.3, 79]\n",
    "\n",
    "# x, y의 데이터 값이 저장된 리스트, 1건의 데이터 -> [공부한 시간(x), 실제 성적(y)]\n",
    "data = [[2, 81], [4, 93], [6, 91], [8, 97]]\n",
    "\n",
    "x = [i[0] for i in data]\n",
    "print(x)\n",
    "y = [i[1] for i in data]\n",
    "print(y)\n",
    "\n",
    "for i in data:\n",
    "    print('공부한 시간 : {}, 실제 성적 : {}'.format(i[0], i[1]))"
   ]
  },
  {
   "cell_type": "code",
   "execution_count": 14,
   "metadata": {},
   "outputs": [],
   "source": [
    "# y = ax + b 에 a(기울기 ab[0]), b(y절편, ab[1]) 값을 대입해서 결과(예측성적)을 계산하는 함수를 만듭니다.\n",
    "\n",
    "def predict(x):\n",
    "    return ab[0] * x + ab[1]\n"
   ]
  },
  {
   "cell_type": "code",
   "execution_count": 15,
   "metadata": {},
   "outputs": [
    {
     "name": "stdout",
     "output_type": "stream",
     "text": [
      "공부한 시간 : 2, 실제 성적 : 81, 예측 점수 : 83.6\n",
      "공부한 시간 : 4, 실제 성적 : 93, 예측 점수 : 88.2\n",
      "공부한 시간 : 6, 실제 성적 : 91, 예측 점수 : 92.8\n",
      "공부한 시간 : 8, 실제 성적 : 97, 예측 점수 : 97.4\n"
     ]
    }
   ],
   "source": [
    "# 임의로 지정한 기울기와 y절편으로 예측 성적을 계산합니다.\n",
    "# 기울기와 y절편을 이용해서 계산된 예측 성적이 저장될 빈 리스트를 만듭니다.\n",
    "predict_result = []\n",
    "\n",
    "# 모든 공부 시간(x)값을 한번씩 대입해 예측 성적(predict_result) 리스트를 완성합니다.\n",
    "for i in range(len(x)):\n",
    "    predict_result.append(predict(x[i]))\n",
    "    print('공부한 시간 : {}, 실제 성적 : {}, 예측 점수 : {}'.format(x[i], y[i], predict_result[i]))"
   ]
  },
  {
   "cell_type": "code",
   "execution_count": 16,
   "metadata": {},
   "outputs": [
    {
     "name": "stdout",
     "output_type": "stream",
     "text": [
      "RMSE(평균 제곱 오차) : 2.880972058177584\n"
     ]
    }
   ],
   "source": [
    "# 평균 제곱근 오차를 계산하는 함수\n",
    "def rmse(predict_result, y):\n",
    "    return np.sqrt(((predict_result - y) ** 2).mean())\n",
    "\n",
    "# RMSE 함수를 각각의 y값에 대입해서 최종값(오차)를 계산해주는 함수\n",
    "# 평균 제곱 오차를 계산할 데이터를 numpy 배열로 만들어 평균 제곱 오차를 계산하는 함수를 호출하는 함수\n",
    "def rmse_val(predict_result,y):\n",
    "    return rmse(np.array(predict_result), np.array(y))\n",
    "\n",
    "# 최종 RMSE를 출력합니다.\n",
    "rmse_result = rmse_val(predict_result, y)\n",
    "print('RMSE(평균 제곱 오차) : {}'.format(rmse_result))"
   ]
  },
  {
   "cell_type": "markdown",
   "metadata": {},
   "source": [
    "#### 정리\n",
    "임의로 지정했던 기울기 (a=3)와 y절편(b=73)은 3.3166247903554의 평균 제곱근 오차가 발생하는 것을 확인했습니다. 이제 남은 일은 오차를 줄여가면서 새로운 선을 그어주는 일입니다. 이를 위해서 기울기와 y절편 값을 적절히 조절하면서 오차의 변화를 살펴보고 오차가 최소가 되는 기울기와 y절편을 찾아야 합니다."
   ]
  },
  {
   "cell_type": "code",
   "execution_count": null,
   "metadata": {},
   "outputs": [],
   "source": []
  }
 ],
 "metadata": {
  "kernelspec": {
   "display_name": "Python 3",
   "language": "python",
   "name": "python3"
  },
  "language_info": {
   "codemirror_mode": {
    "name": "ipython",
    "version": 3
   },
   "file_extension": ".py",
   "mimetype": "text/x-python",
   "name": "python",
   "nbconvert_exporter": "python",
   "pygments_lexer": "ipython3",
   "version": "3.8.5"
  }
 },
 "nbformat": 4,
 "nbformat_minor": 4
}
