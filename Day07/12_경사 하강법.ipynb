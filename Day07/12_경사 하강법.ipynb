{
 "cells": [
  {
   "cell_type": "markdown",
   "metadata": {},
   "source": [
    "### 경사 하강법(Gradient Descent)\n",
    "경사 하강법은 많은 머신러인 및 딥러닝 알고리즘을 훈련시킬 때 사용하는 방법입니다. 기울기를 너무 크게 잡으면 오차가 커지고 기울기를 너무 작게 잡아도 오차가 커집니다. 기울기를 무한대로 키우면 오차도 무한대로 늘어나고 기울기를 무한대로 작게해도 오차는 무한대로 늘어납니다. 따라서 가장 적절한 기울기와 y절편을 구하도록 하는 방법입니다."
   ]
  },
  {
   "cell_type": "code",
   "execution_count": 1,
   "metadata": {},
   "outputs": [
    {
     "name": "stdout",
     "output_type": "stream",
     "text": [
      "WARNING:tensorflow:From C:\\haekangBD\\bigdata\\anaconda3\\envs\\bigdata\\lib\\site-packages\\tensorflow\\python\\compat\\v2_compat.py:96: disable_resource_variables (from tensorflow.python.ops.variable_scope) is deprecated and will be removed in a future version.\n",
      "Instructions for updating:\n",
      "non-resource variables are not supported in the long term\n"
     ]
    }
   ],
   "source": [
    "import tensorflow.compat.v1 as tf\n",
    "tf.disable_v2_behavior()"
   ]
  },
  {
   "cell_type": "code",
   "execution_count": 2,
   "metadata": {},
   "outputs": [
    {
     "name": "stdout",
     "output_type": "stream",
     "text": [
      "[2, 4, 6, 8]\n",
      "[81, 93, 91, 97]\n"
     ]
    }
   ],
   "source": [
    "data = [[2, 81], [4, 93], [6, 91], [8, 97]]\n",
    "xData = [i[0] for i in data]\n",
    "yData = [i[1] for i in data]\n",
    "print(xData)\n",
    "print(yData)"
   ]
  },
  {
   "cell_type": "code",
   "execution_count": 6,
   "metadata": {},
   "outputs": [
    {
     "name": "stdout",
     "output_type": "stream",
     "text": [
      "a=[0.82180977], b=[20.363844]\n"
     ]
    }
   ],
   "source": [
    "a = tf.Variable(tf.random_uniform([1], 0, 10, dtype=tf.float32))\n",
    "b = tf.Variable(tf.random_uniform([1], 0, 100, dtype=tf.float32))\n",
    "sess = tf.Session()\n",
    "sess.run(tf.global_variables_initializer())\n",
    "print('a={}, b={}'.format(sess.run(a), sess.run(b)))"
   ]
  },
  {
   "cell_type": "code",
   "execution_count": 7,
   "metadata": {},
   "outputs": [],
   "source": [
    "# 에측 성적 y를 얻기위한 방정식을 세웁니다.\n",
    "y = a * xData + b\n",
    "\n",
    "# tensorflow에서 실행할 RMSE(평균 제곱근 오차) 수식을 만듭니다. -> 오차(비용)함수\n",
    "rmse = tf.sqrt(tf.reduce_mean(tf.square(y - yData)))"
   ]
  },
  {
   "cell_type": "code",
   "execution_count": 8,
   "metadata": {},
   "outputs": [],
   "source": [
    "# 경사 하강법을 이용해서 RMSE를 최소로 하는 값을 찾는 수식을 만듭니다.\n",
    "gradient_descent = tf.train.GradientDescentOptimizer(0.1).minimize(rmse)"
   ]
  },
  {
   "cell_type": "code",
   "execution_count": 11,
   "metadata": {},
   "outputs": [
    {
     "name": "stdout",
     "output_type": "stream",
     "text": [
      "count :    0, RMSE : 44.8931, 기울기 :  1.8467, y절편 : 36.4773\n",
      "count :  100, RMSE : 15.6231, 기울기 :  8.6023, y절편 : 41.3905\n",
      "count :  200, RMSE : 14.0629, 기울기 :  7.9495, y절편 : 45.2861\n",
      "count :  300, RMSE : 12.5179, 기울기 :  7.2999, y절편 : 49.1627\n",
      "count :  400, RMSE : 10.9943, 기울기 :  6.6548, y절편 : 53.0125\n",
      "count :  500, RMSE :  9.5017, 기울기 :  6.0163, y절편 : 56.8229\n",
      "count :  600, RMSE :  8.0562, 기울기 :  5.3879, y절편 : 60.5727\n",
      "count :  700, RMSE :  6.6850, 기울기 :  4.7759, y절편 : 64.2249\n",
      "count :  800, RMSE :  5.4352, 기울기 :  4.1916, y절편 : 67.7115\n",
      "count :  900, RMSE :  4.3829, 기울기 :  3.6557, y절편 : 70.9100\n",
      "count : 1000, RMSE :  3.6205, 기울기 :  3.2000, y절편 : 73.6292\n",
      "count : 1100, RMSE :  3.1835, 기울기 :  2.8560, y절편 : 75.6823\n",
      "count : 1200, RMSE :  2.9894, 기울기 :  2.6275, y절편 : 77.0457\n",
      "count : 1300, RMSE :  2.9174, 기울기 :  2.4886, y절편 : 77.8743\n",
      "count : 1400, RMSE :  2.8929, 기울기 :  2.4077, y절편 : 78.3570\n",
      "count : 1500, RMSE :  2.8849, 기울기 :  2.3614, y절편 : 78.6338\n",
      "count : 1600, RMSE :  2.8822, 기울기 :  2.3349, y절편 : 78.7916\n",
      "count : 1700, RMSE :  2.8814, 기울기 :  2.3199, y절편 : 78.8815\n",
      "count : 1800, RMSE :  2.8811, 기울기 :  2.3113, y절편 : 78.9326\n",
      "count : 1900, RMSE :  2.8810, 기울기 :  2.3064, y절편 : 78.9616\n",
      "count : 2000, RMSE :  2.8810, 기울기 :  2.3037, y절편 : 78.9782\n",
      "count : 2100, RMSE :  2.8810, 기울기 :  2.3021, y절편 : 78.9876\n",
      "count : 2200, RMSE :  2.8810, 기울기 :  2.3012, y절편 : 78.9929\n",
      "count : 2300, RMSE :  2.8810, 기울기 :  2.3007, y절편 : 78.9959\n",
      "count : 2400, RMSE :  2.8810, 기울기 :  2.3004, y절편 : 78.9977\n",
      "count : 2500, RMSE :  2.8810, 기울기 :  2.3002, y절편 : 78.9986\n",
      "count : 2600, RMSE :  2.8810, 기울기 :  2.3001, y절편 : 78.9993\n",
      "count : 2700, RMSE :  2.8810, 기울기 :  2.3001, y절편 : 78.9994\n",
      "count : 2800, RMSE :  2.8810, 기울기 :  2.3001, y절편 : 78.9994\n",
      "count : 2900, RMSE :  2.8810, 기울기 :  2.3001, y절편 : 78.9994\n",
      "count : 3000, RMSE :  2.8810, 기울기 :  2.3001, y절편 : 78.9994\n",
      "count : 3100, RMSE :  2.8810, 기울기 :  2.3001, y절편 : 78.9994\n",
      "count : 3200, RMSE :  2.8810, 기울기 :  2.3001, y절편 : 78.9994\n",
      "count : 3300, RMSE :  2.8810, 기울기 :  2.3001, y절편 : 78.9994\n",
      "count : 3400, RMSE :  2.8810, 기울기 :  2.3001, y절편 : 78.9994\n",
      "count : 3500, RMSE :  2.8810, 기울기 :  2.3001, y절편 : 78.9994\n",
      "count : 3600, RMSE :  2.8810, 기울기 :  2.3001, y절편 : 78.9994\n",
      "count : 3700, RMSE :  2.8810, 기울기 :  2.3001, y절편 : 78.9994\n",
      "count : 3800, RMSE :  2.8810, 기울기 :  2.3001, y절편 : 78.9994\n",
      "count : 3900, RMSE :  2.8810, 기울기 :  2.3001, y절편 : 78.9994\n",
      "count : 4000, RMSE :  2.8810, 기울기 :  2.3001, y절편 : 78.9994\n"
     ]
    }
   ],
   "source": [
    "import time\n",
    "\n",
    "with tf.Session() as sess:\n",
    "    sess.run(tf.global_variables_initializer())\n",
    "    for i in range(4001):\n",
    "        sess.run(gradient_descent)\n",
    "        if i % 100 == 0:\n",
    "            print('count : %4d, RMSE : %7.4f, 기울기 : %7.4f, y절편 : %7.4f' % (i, sess.run(rmse), sess.run(a), sess.run(b)))\n",
    "            time.sleep(0.5)"
   ]
  },
  {
   "cell_type": "code",
   "execution_count": null,
   "metadata": {},
   "outputs": [],
   "source": []
  },
  {
   "cell_type": "code",
   "execution_count": null,
   "metadata": {},
   "outputs": [],
   "source": []
  },
  {
   "cell_type": "code",
   "execution_count": null,
   "metadata": {},
   "outputs": [],
   "source": []
  },
  {
   "cell_type": "code",
   "execution_count": null,
   "metadata": {},
   "outputs": [],
   "source": []
  },
  {
   "cell_type": "code",
   "execution_count": null,
   "metadata": {},
   "outputs": [],
   "source": []
  },
  {
   "cell_type": "code",
   "execution_count": null,
   "metadata": {},
   "outputs": [],
   "source": []
  }
 ],
 "metadata": {
  "kernelspec": {
   "display_name": "Python 3",
   "language": "python",
   "name": "python3"
  },
  "language_info": {
   "codemirror_mode": {
    "name": "ipython",
    "version": 3
   },
   "file_extension": ".py",
   "mimetype": "text/x-python",
   "name": "python",
   "nbconvert_exporter": "python",
   "pygments_lexer": "ipython3",
   "version": "3.8.5"
  }
 },
 "nbformat": 4,
 "nbformat_minor": 4
}
