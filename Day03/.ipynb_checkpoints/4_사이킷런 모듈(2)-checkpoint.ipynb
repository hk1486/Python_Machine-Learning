{
 "cells": [
  {
   "cell_type": "code",
   "execution_count": 4,
   "metadata": {},
   "outputs": [
    {
     "name": "stdout",
     "output_type": "stream",
     "text": [
      "[[0, 0], [1, 0], [0, 1], [1, 1]] 의 예측결과 :  [0 1 1 0]\n",
      "정답률:  1.0\n"
     ]
    }
   ],
   "source": [
    "from sklearn.neighbors import KNeighborsClassifier\n",
    "from sklearn.metrics import accuracy_score\n",
    "\n",
    "learn_data = [[0,0], [1,0], [0,1], [1,1]]\n",
    "learn_label = [0,1,1,0]\n",
    "\n",
    "clf = KNeighborsClassifier(n_neighbors=1)\n",
    "\n",
    "clf.fit(learn_data, learn_label)\n",
    "\n",
    "test_data = [[0,0],[1,0],[0,1],[1,1]]\n",
    "test_label = clf.predict(test_data)\n",
    "\n",
    "print(test_data,\"의 예측결과 : \",test_label)\n",
    "print(\"정답률: \",accuracy_score([0,1,1,0],test_label))"
   ]
  },
  {
   "cell_type": "code",
   "execution_count": null,
   "metadata": {},
   "outputs": [],
   "source": []
  }
 ],
 "metadata": {
  "kernelspec": {
   "display_name": "Python 3",
   "language": "python",
   "name": "python3"
  },
  "language_info": {
   "codemirror_mode": {
    "name": "ipython",
    "version": 3
   },
   "file_extension": ".py",
   "mimetype": "text/x-python",
   "name": "python",
   "nbconvert_exporter": "python",
   "pygments_lexer": "ipython3",
   "version": "3.8.5"
  }
 },
 "nbformat": 4,
 "nbformat_minor": 4
}
