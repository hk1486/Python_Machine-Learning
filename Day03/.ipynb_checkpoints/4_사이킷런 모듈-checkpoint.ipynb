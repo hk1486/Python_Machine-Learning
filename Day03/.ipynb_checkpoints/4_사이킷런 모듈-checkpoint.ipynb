{
 "cells": [
  {
   "cell_type": "markdown",
   "metadata": {},
   "source": [
    "#### scikit-learn\n",
    "- https://scikit-learn.org\n",
    "- 대표적인 파이썬 머신러닝 프레임워크\n",
    "- 다양한 머신러닝 알고리즘 제공\n",
    "- 다양한 샘플 데이터를 제공\n",
    "- 머신러닝 결과를 검증하는 기능을 제공\n",
    "- BSD 라이선스이기 때문에 무료로 사용 및 배포가 가능\n",
    "- 알고리즘 치트 시트 (https://scikit-learn.org/stable/tutorial/machine_learning_map/)"
   ]
  },
  {
   "cell_type": "markdown",
   "metadata": {},
   "source": [
    "#### 목표 결정\n",
    "- 입력(x, y)과 결과(x, y)의 모든 패턴을 학습시킵니다.\n",
    "- 다시 입력(x, y) 모든 패턴을 주고 제대로된 결과를 내는지 평가를 합니다."
   ]
  },
  {
   "cell_type": "code",
   "execution_count": null,
   "metadata": {},
   "outputs": [],
   "source": []
  }
 ],
 "metadata": {
  "kernelspec": {
   "display_name": "Python 3",
   "language": "python",
   "name": "python3"
  },
  "language_info": {
   "codemirror_mode": {
    "name": "ipython",
    "version": 3
   },
   "file_extension": ".py",
   "mimetype": "text/x-python",
   "name": "python",
   "nbconvert_exporter": "python",
   "pygments_lexer": "ipython3",
   "version": "3.8.5"
  }
 },
 "nbformat": 4,
 "nbformat_minor": 4
}
