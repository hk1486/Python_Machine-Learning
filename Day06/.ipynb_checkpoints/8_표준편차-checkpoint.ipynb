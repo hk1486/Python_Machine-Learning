{
 "cells": [
  {
   "cell_type": "markdown",
   "metadata": {},
   "source": [
    "### 표준편차는 자료의 산포도를 나타내는 수치로, 분산의 양의 제곱근으로 정의합니다. 표준편차가 작을수록 평균값에서 변량들의 거리가 가깝습니다.\n",
    "$$\\sqrt{\\frac{\\sum_{k=1}^N (x_i - \\bar{x})^2}{n}}$$\n"
   ]
  },
  {
   "cell_type": "code",
   "execution_count": 2,
   "metadata": {},
   "outputs": [
    {
     "name": "stdout",
     "output_type": "stream",
     "text": [
      "표준편차를 계산할 데이터의 개수를 입력하세요.5\n",
      "[0, 0, 0, 0, 0]\n",
      "1번째 데이터 :30\n",
      "2번째 데이터 :90\n",
      "3번째 데이터 :50\n",
      "4번째 데이터 :20\n",
      "5번째 데이터 :10\n",
      "[30, 90, 50, 20, 10]\n"
     ]
    }
   ],
   "source": [
    "# 표준편차를 계산할 데이터의 개수를 입력하고 입력받은 개수만큼 데이터를 입력 받습니다.\n",
    "n = int(input('표준편차를 계산할 데이터의 개수를 입력하세요.'))\n",
    "score = [0 for i in range(n)]\n",
    "print(score)\n",
    "\n",
    "for i in range(n):\n",
    "    data = int(input('{}번째 데이터 :'.format(i+1)))\n",
    "    score[i] = data\n",
    "    \n",
    "print(score)"
   ]
  },
  {
   "cell_type": "code",
   "execution_count": 3,
   "metadata": {},
   "outputs": [
    {
     "name": "stdout",
     "output_type": "stream",
     "text": [
      "[10, 20, 30, 50, 90]\n",
      "최소값:10, 최대값:90\n"
     ]
    }
   ],
   "source": [
    "# 입력받은 데이터를 오름차순 정렬합니다. => 0번째 데이터가 최소값, 마지막 데이터가 최대값.\n",
    "for i in range(len(score)-1): # 0 ~ 3 까지 네바퀴 돌고\n",
    "    for j in range(i+1, len(score)): # 1 ~ 4 까지 돈다.\n",
    "        if score[i] > score[j]:\n",
    "            score[i],score[j] = score[j], score[i] # 순서를 바꿔줌\n",
    "print(score)\n",
    "print('최소값:{}, 최대값:{}'.format(score[0],score[len(score)-1]))"
   ]
  },
  {
   "cell_type": "code",
   "execution_count": 4,
   "metadata": {},
   "outputs": [
    {
     "name": "stdout",
     "output_type": "stream",
     "text": [
      "33.333333333333336\n"
     ]
    }
   ],
   "source": [
    "# 최대값과 최소값을 제외한 나머지 데이터의 평균을 계산\n",
    "total = 0\n",
    "for i in range(1, len(score)-1):\n",
    "    total += score[i]\n",
    "mean = total / (n-2)\n",
    "print(mean)"
   ]
  },
  {
   "cell_type": "code",
   "execution_count": 5,
   "metadata": {},
   "outputs": [
    {
     "name": "stdout",
     "output_type": "stream",
     "text": [
      "12.47219128924647\n"
     ]
    }
   ],
   "source": [
    "total = 0.0\n",
    "for i in range(1, len(score)-1):\n",
    "    total += (score[i] - mean) ** 2\n",
    "var = total / (n-2)\n",
    "\n",
    "import math\n",
    "std = math.sqrt(var)\n",
    "print(std)\n"
   ]
  },
  {
   "cell_type": "code",
   "execution_count": 7,
   "metadata": {},
   "outputs": [
    {
     "name": "stdout",
     "output_type": "stream",
     "text": [
      "[10, 20, 30, 50, 90]에서 최대값 90, 최소값10를 제외한 데이터의 평균은 33.3333이고, 분산은 155.5556 표준편차는 12.4722입니다.\n"
     ]
    }
   ],
   "source": [
    "print('{0}에서 최대값 {1}, 최소값{2}를 제외한 데이터의 평균은 {3:6.4f}이고, 분산은 {4:6.4f} 표준편차는 {5:6.4f}입니다.'\n",
    "      .format(score, score[n-1], score[0], mean, var, std))"
   ]
  },
  {
   "cell_type": "code",
   "execution_count": null,
   "metadata": {},
   "outputs": [],
   "source": []
  },
  {
   "cell_type": "code",
   "execution_count": null,
   "metadata": {},
   "outputs": [],
   "source": []
  }
 ],
 "metadata": {
  "kernelspec": {
   "display_name": "Python 3",
   "language": "python",
   "name": "python3"
  },
  "language_info": {
   "codemirror_mode": {
    "name": "ipython",
    "version": 3
   },
   "file_extension": ".py",
   "mimetype": "text/x-python",
   "name": "python",
   "nbconvert_exporter": "python",
   "pygments_lexer": "ipython3",
   "version": "3.8.5"
  }
 },
 "nbformat": 4,
 "nbformat_minor": 4
}
