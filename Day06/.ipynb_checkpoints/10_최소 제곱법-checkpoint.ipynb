{
 "cells": [
  {
   "cell_type": "code",
   "execution_count": 1,
   "metadata": {},
   "outputs": [],
   "source": [
    "import numpy as np\n",
    "import pandas as pd\n",
    "import matplotlib.pyplot as plt\n",
    "import seaborn as sb\n",
    "%matplotlib inline"
   ]
  },
  {
   "cell_type": "code",
   "execution_count": 7,
   "metadata": {},
   "outputs": [
    {
     "name": "stdout",
     "output_type": "stream",
     "text": [
      "   x   y\n",
      "0  2  81\n",
      "1  4  93\n",
      "2  6  91\n",
      "3  8  97\n"
     ]
    },
    {
     "data": {
      "text/plain": [
       "<seaborn.axisgrid.FacetGrid at 0x2d70f6ab550>"
      ]
     },
     "execution_count": 7,
     "metadata": {},
     "output_type": "execute_result"
    },
    {
     "data": {
      "image/png": "[encoded data removed]",
      "text/plain": [
       "<Figure size 360x360 with 1 Axes>"
      ]
     },
     "metadata": {
      "needs_background": "light"
     },
     "output_type": "display_data"
    }
   ],
   "source": [
    "x = [2, 4, 6, 8] # 공부한 시간\n",
    "y = [81, 93, 91, 97] # 시험 점수\n",
    "df = pd.DataFrame(columns = ['x','y'])\n",
    "df.loc[0] = [2, 81]\n",
    "df.loc[1] = [4, 93]\n",
    "df.loc[2] = [6, 91]\n",
    "df.loc[3] = [8, 97]\n",
    "print(df)\n",
    "sb.lmplot('x','y', data=df, fit_reg=False)"
   ]
  },
  {
   "cell_type": "code",
   "execution_count": 8,
   "metadata": {},
   "outputs": [
    {
     "name": "stdout",
     "output_type": "stream",
     "text": [
      "공부한 시간의 평균 : 5.0, 시험점수의 평균: 90.5\n"
     ]
    }
   ],
   "source": [
    "# numpy를 이용하여 공부한 시간과 시험점수의 평균을 계산\n",
    "mean_x = np.mean(x)\n",
    "mean_y = np.mean(y)\n",
    "print('공부한 시간의 평균 : {}, 시험점수의 평균: {}'.format(mean_x, mean_y))"
   ]
  },
  {
   "cell_type": "markdown",
   "metadata": {},
   "source": [
    "### 기울기 공식의 분자를 계산하는 함수를 만들어 분자를 계산합니다.\n",
    "#### 기울기 공식 : Σ(x-x의 평균)(y-y의 평균) / Σ(x-x의 평균)**2\n",
    "\n",
    "- 공부한 시간(x), 공부한 시간의 평균(mean_x), 시험 점수(y), 시험 점수의 평균(mean_y)을 인수로 넘겨받아 공부한 시간에서 공부한 시간의 평균을 뺀 편차와 시험 점수에서 시험 점수의 평균을 뺀 편차의 곱을 계산해서 리턴하는 함수를 만듭니다.\n"
   ]
  },
  {
   "cell_type": "code",
   "execution_count": 9,
   "metadata": {},
   "outputs": [
    {
     "name": "stdout",
     "output_type": "stream",
     "text": [
      "46.0\n"
     ]
    }
   ],
   "source": [
    "# 분자를 계산하는 함수\n",
    "def top(x, mean_x, y, mean_y):\n",
    "    total = 0\n",
    "    for i in range(len(x)):\n",
    "        total += (x[i] - mean_x) * (y[i] - mean_y)\n",
    "    return total\n",
    "\n",
    "dividend = top(x, mean_x, y, mean_y) # 분자\n",
    "print(dividend)"
   ]
  },
  {
   "cell_type": "markdown",
   "metadata": {},
   "source": [
    "### 기울기 공식의 분모를 계산하는 함수를 만들어 분모를 계산합니다.\n",
    "- 공부한 시간(x), 공부한 시간의 평균(mean_x)을 인수로 넘겨받아 공부한 시간에서 공부한 시간의 평균을 뺀 편차의 제곱을 한 합계를 리턴하는 함수"
   ]
  },
  {
   "cell_type": "code",
   "execution_count": 11,
   "metadata": {},
   "outputs": [
    {
     "name": "stdout",
     "output_type": "stream",
     "text": [
      "20.0\n"
     ]
    }
   ],
   "source": [
    "# 분모를 계산하는 함수\n",
    "def bottom(x, mean_x):\n",
    "    total = 0\n",
    "    for i in range(len(x)):\n",
    "        total += (x[i] - mean_x) ** 2\n",
    "    return total\n",
    "\n",
    "divisor = bottom(x, mean_x)\n",
    "print(divisor)"
   ]
  },
  {
   "cell_type": "code",
   "execution_count": null,
   "metadata": {},
   "outputs": [],
   "source": []
  }
 ],
 "metadata": {
  "kernelspec": {
   "display_name": "Python 3",
   "language": "python",
   "name": "python3"
  },
  "language_info": {
   "codemirror_mode": {
    "name": "ipython",
    "version": 3
   },
   "file_extension": ".py",
   "mimetype": "text/x-python",
   "name": "python",
   "nbconvert_exporter": "python",
   "pygments_lexer": "ipython3",
   "version": "3.8.5"
  }
 },
 "nbformat": 4,
 "nbformat_minor": 4
}
