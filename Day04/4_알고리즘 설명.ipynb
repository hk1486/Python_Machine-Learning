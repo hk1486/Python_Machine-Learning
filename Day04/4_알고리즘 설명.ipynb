{
 "cells": [
  {
   "cell_type": "markdown",
   "metadata": {},
   "source": [
    "### 인공지능\n",
    "- 사람의 지능을 모방하며, 사람이 하는것과 같이 복잡한 일을 할 수 있게 기계를 만드는것\n",
    "\n",
    "### 머신러닝\n",
    "- 기본적으로 알고리즘을 이용해서 데이터를 분석 및 학습하며, 학습한 내용을 기반으로 판단이나 예측\n",
    "\n",
    "### 딥러닝\n",
    "- 인공신경망에서 발전한 형태의 인공 지능, 머신러닝 중 하나의 방법론\n"
   ]
  },
  {
   "cell_type": "markdown",
   "metadata": {},
   "source": [
    "#### 데이터를 기반으로 패턴을 학습하여 결과를 추론하는 것"
   ]
  },
  {
   "cell_type": "markdown",
   "metadata": {},
   "source": [
    "### 지도학습\n",
    "- 회귀(집값:3억, 5억, ..그다음예측할수있는것) , 분류(스팸문자, 암진단..)\n",
    "\n",
    "### 비지도학습\n",
    "- 군집합(그룹핑, 관심사, 뉴스분류), 차원 축소"
   ]
  },
  {
   "cell_type": "markdown",
   "metadata": {},
   "source": [
    "### 머신러닝 장점\n",
    "- 복잡한 패턴을 인지할 수 있습니다.\n",
    "- 적절한 알고리즘과 다양한 양질의 데이터가 있다면 좋은성능을 발휘할 수 있다.\n",
    "- 도메인 영역에 대한 지식이 상대적으로 부족해도 가능합니다.\n"
   ]
  },
  {
   "cell_type": "markdown",
   "metadata": {},
   "source": [
    "### 머신러닝의 문제점\n",
    "- 데이터의 의존성이 큽니다. (Garbage in, Garbage out)\n",
    "- 과적합의 오류에 빠질 수 있습니다. (일반화 오류, 데이터 다양성 요구)\n",
    "- 풍부한 데이터가 기본적으로 요구됩니다."
   ]
  },
  {
   "cell_type": "markdown",
   "metadata": {},
   "source": [
    "## 좋은 성능 = 좋은 데이터(quality, quantity)\n",
    "## 데이터 가공 = 전처리(pre-processing)"
   ]
  },
  {
   "cell_type": "markdown",
   "metadata": {},
   "source": [
    "### 데이터, 예측해야할 값에 맞는 알고리즘을 사용"
   ]
  },
  {
   "cell_type": "markdown",
   "metadata": {},
   "source": [
    "### 가설함수(Hypothesis), 비용(Cost), 손실함수(Loss Function)\n"
   ]
  },
  {
   "cell_type": "markdown",
   "metadata": {},
   "source": [
    "###   x   y\n",
    "###   1   3\n",
    "###   2   5\n",
    "###   3   7\n",
    "\n",
    "# H(x) = W * X + b"
   ]
  },
  {
   "cell_type": "code",
   "execution_count": null,
   "metadata": {},
   "outputs": [],
   "source": [
    " \n",
    "    "
   ]
  }
 ],
 "metadata": {
  "kernelspec": {
   "display_name": "Python 3",
   "language": "python",
   "name": "python3"
  },
  "language_info": {
   "codemirror_mode": {
    "name": "ipython",
    "version": 3
   },
   "file_extension": ".py",
   "mimetype": "text/x-python",
   "name": "python",
   "nbconvert_exporter": "python",
   "pygments_lexer": "ipython3",
   "version": "3.8.3"
  }
 },
 "nbformat": 4,
 "nbformat_minor": 4
}
